{
 "cells": [
  {
   "cell_type": "markdown",
   "metadata": {},
   "source": [
    "# Preprocessing"
   ]
  },
  {
   "cell_type": "markdown",
   "metadata": {},
   "source": [
    "## Dataset Preproc"
   ]
  },
  {
   "cell_type": "code",
   "execution_count": 1,
   "metadata": {},
   "outputs": [
    {
     "name": "stdout",
     "output_type": "stream",
     "text": [
      "First pass through data to get vocab...\n",
      "Number of sentences in training: 39832\n",
      "Number of sentences in valid: 1346\n",
      "Number of sentences in test: 2416\n",
      "Vocab size: Original = 44389, Pruned = 23771\n",
      "141 116 67\n",
      "2416 2416\n",
      "2416 2416\n",
      "Saved 2416 sentences (dropped 0 due to length/unk filter)\n",
      "1346 1346\n",
      "1346 1346\n",
      "Saved 1346 sentences (dropped 0 due to length/unk filter)\n",
      "39832 39832\n",
      "39832 39832\n",
      "Saved 39832 sentences (dropped 0 due to length/unk filter)\n",
      "Max sent length (before dropping): 143\n"
     ]
    }
   ],
   "source": [
    "!cd E:/NLP/urnng_plus_tg\n",
    "!python preprocess.py --trainfile data/train_02-21.LDC99T42 --valfile data/dev_24.LDC99T42 --testfile data/test_23.LDC99T42 --outputfile data/ptb_20231103 --vocabminfreq 1 --lowercase 0 --replace_num 0 --batchsize 16\n"
   ]
  },
  {
   "cell_type": "markdown",
   "metadata": {},
   "source": [
    "## Masking CPP Build"
   ]
  },
  {
   "cell_type": "markdown",
   "metadata": {},
   "source": [
    "# Training"
   ]
  },
  {
   "cell_type": "code",
   "execution_count": 1,
   "metadata": {},
   "outputs": [
    {
     "name": "stderr",
     "output_type": "stream",
     "text": [
      "Traceback (most recent call last):\n",
      "  File \"tg_train.py\", line 12, in <module>\n",
      "    from tg_model import TransformerGrammar\n",
      "  File \"e:\\NLP\\urnng_plus_tg\\tg_model.py\", line 5, in <module>\n",
      "    from masking import utils as masking_utils\n",
      "  File \"e:\\NLP\\urnng_plus_tg\\masking\\utils.py\", line 33, in <module>\n",
      "    from . import cpp_masking as mcpp\n",
      "ImportError: cannot import name 'cpp_masking'\n"
     ]
    }
   ],
   "source": [
    "!python tg_train.py --train_file data/ptb_20231103-train.pkl --val_file data/ptb_20231103-val.pkl --save_path ckpt/tg_20231103.pt  --mode unsupervised --gpu 0 "
   ]
  }
 ],
 "metadata": {
  "kernelspec": {
   "display_name": "urnng_plus_tg",
   "language": "python",
   "name": "python3"
  },
  "language_info": {
   "codemirror_mode": {
    "name": "ipython",
    "version": 3
   },
   "file_extension": ".py",
   "mimetype": "text/x-python",
   "name": "python",
   "nbconvert_exporter": "python",
   "pygments_lexer": "ipython3",
   "version": "3.6.13"
  }
 },
 "nbformat": 4,
 "nbformat_minor": 2
}
