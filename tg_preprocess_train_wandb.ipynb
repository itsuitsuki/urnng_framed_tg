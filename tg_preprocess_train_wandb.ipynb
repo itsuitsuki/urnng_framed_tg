{
 "cells": [
  {
   "cell_type": "code",
   "execution_count": null,
   "metadata": {},
   "outputs": [],
   "source": [
    "!cd E:/NLP/urnng_plus_tg\n",
    "!python preprocess.py --trainfile data/train_02-21.LDC99T42 --valfile data/dev_24.LDC99T42 --testfile data/test_23.LDC99T42 --outputfile data/ptb_20231103 --vocabminfreq 1 --lowercase 0 --replace_num 0 --batchsize 16\n"
   ]
  }
 ],
 "metadata": {
  "language_info": {
   "name": "python"
  }
 },
 "nbformat": 4,
 "nbformat_minor": 2
}
