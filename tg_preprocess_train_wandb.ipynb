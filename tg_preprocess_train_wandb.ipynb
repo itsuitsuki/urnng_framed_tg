{
 "cells": [
  {
   "cell_type": "markdown",
   "metadata": {},
   "source": [
    "# Preprocessing"
   ]
  },
  {
   "cell_type": "markdown",
   "metadata": {},
   "source": [
    "## Dataset Preproccessing"
   ]
  },
  {
   "cell_type": "code",
   "execution_count": 1,
   "metadata": {},
   "outputs": [
    {
     "name": "stdout",
     "output_type": "stream",
     "text": [
      "First pass through data to get vocab...\n",
      "Number of sentences in training: 39832\n",
      "Number of sentences in valid: 1346\n",
      "Number of sentences in test: 2416\n",
      "Vocab size: Original = 44389, Pruned = 23771\n",
      "141 116 67\n",
      "2416 2416\n",
      "2416 2416\n",
      "Saved 2416 sentences (dropped 0 due to length/unk filter)\n",
      "1346 1346\n",
      "1346 1346\n",
      "Saved 1346 sentences (dropped 0 due to length/unk filter)\n",
      "39832 39832\n",
      "39832 39832\n",
      "Saved 39832 sentences (dropped 0 due to length/unk filter)\n",
      "Max sent length (before dropping): 143\n"
     ]
    }
   ],
   "source": [
    "!cd E:/NLP/urnng_plus_tg\n",
    "!python preprocess.py --trainfile data/train_02-21.LDC99T42 --valfile data/dev_24.LDC99T42 --testfile data/test_23.LDC99T42 --outputfile data/ptb_20231103 --vocabminfreq 1 --lowercase 0 --replace_num 0 --batchsize 16\n"
   ]
  },
  {
   "cell_type": "markdown",
   "metadata": {},
   "source": [
    "## Masking CPP Build"
   ]
  },
  {
   "cell_type": "markdown",
   "metadata": {},
   "source": [
    "# Training"
   ]
  },
  {
   "cell_type": "code",
   "execution_count": null,
   "metadata": {},
   "outputs": [
    {
     "ename": "",
     "evalue": "",
     "output_type": "error",
     "traceback": [
      "\u001b[1;31m运行具有“imw”的单元格需要ipykernel包。\n",
      "\u001b[1;31mRun the following command to install 'ipykernel' into the Python environment. \n",
      "\u001b[1;31mCommand: 'conda install -n imw ipykernel --update-deps --force-reinstall'"
     ]
    }
   ],
   "source": [
    "!python tg_train.py --train_file data/ptb_20231103-train.pkl --val_file data/ptb_20231103-val.pkl --save_path ckpt/utg_20231103.pt  --mode unsupervised --gpu 0 "
   ]
  }
 ],
 "metadata": {
  "kernelspec": {
   "display_name": "urnng_plus_tg",
   "language": "python",
   "name": "python3"
  },
  "language_info": {
   "codemirror_mode": {
    "name": "ipython",
    "version": 3
   },
   "file_extension": ".py",
   "mimetype": "text/x-python",
   "name": "python",
   "nbconvert_exporter": "python",
   "pygments_lexer": "ipython3",
   "version": "3.9.17"
  }
 },
 "nbformat": 4,
 "nbformat_minor": 2
}
